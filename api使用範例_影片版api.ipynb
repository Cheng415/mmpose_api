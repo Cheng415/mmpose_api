{
  "cells": [
    {
      "cell_type": "markdown",
      "metadata": {
        "id": "view-in-github",
        "colab_type": "text"
      },
      "source": [
        "<a href=\"https://colab.research.google.com/github/skywalker0803r/mmpose_api/blob/main/api%E4%BD%BF%E7%94%A8%E7%AF%84%E4%BE%8B_%E5%BD%B1%E7%89%87%E7%89%88api.ipynb\" target=\"_parent\"><img src=\"https://colab.research.google.com/assets/colab-badge.svg\" alt=\"Open In Colab\"/></a>"
      ]
    },
    {
      "cell_type": "code",
      "source": [
        "from google.colab import drive\n",
        "drive.mount('/content/drive')"
      ],
      "metadata": {
        "id": "0mUf9hXb9twm",
        "outputId": "7b15cab1-11e6-4f1e-8f02-914d78ebb705",
        "colab": {
          "base_uri": "https://localhost:8080/"
        }
      },
      "execution_count": 6,
      "outputs": [
        {
          "output_type": "stream",
          "name": "stdout",
          "text": [
            "Drive already mounted at /content/drive; to attempt to forcibly remount, call drive.mount(\"/content/drive\", force_remount=True).\n"
          ]
        }
      ]
    },
    {
      "cell_type": "code",
      "execution_count": 7,
      "metadata": {
        "collapsed": true,
        "id": "Z986JRbheKMW",
        "outputId": "998e4aee-2467-44ea-9e4b-6451d44bd306",
        "colab": {
          "base_uri": "https://localhost:8080/"
        }
      },
      "outputs": [
        {
          "output_type": "stream",
          "name": "stdout",
          "text": [
            "原本推論時間: 15.317528009414673\n",
            "加速推論時間: 8.912722110748291\n",
            "CPU times: user 250 ms, sys: 28.4 ms, total: 279 ms\n",
            "Wall time: 24.2 s\n"
          ]
        }
      ],
      "source": [
        "%%time\n",
        "import requests\n",
        "import time\n",
        "\n",
        "file_path = '/content/drive/MyDrive/Baseball Movies/CH_videos_4s/pitch_0001.mp4'\n",
        "# 設定 API 的 URL\n",
        "#可以ping 但不要太長ping 我怕免費額度爆掉\n",
        "url = \"https://mmpose-api-origin-924124779607.europe-west1.run.app/pose_video\"  # 替換為你的 API URL\n",
        "# 使用 with 開啟檔案並傳送\n",
        "with open(file_path, 'rb') as video_file:\n",
        "    # 以 multipart/form-data 格式上傳檔案\n",
        "    files = {'file': (file_path, video_file, 'video/mp4')}\n",
        "    s = time.time()\n",
        "    response_origin = requests.post(url, files=files)\n",
        "    e = time.time()\n",
        "origin_time = e-s\n",
        "print('原本推論時間:',origin_time)\n",
        "\n",
        "url = \"https://mmpose-api-fast-924124779607.europe-west1.run.app/pose_video\"  # 替換為你的 API URL\n",
        "# 使用 with 開啟檔案並傳送\n",
        "with open(file_path, 'rb') as video_file:\n",
        "    # 以 multipart/form-data 格式上傳檔案\n",
        "    files = {'file': (file_path, video_file, 'video/mp4')}\n",
        "    s = time.time()\n",
        "    response_fast = requests.post(url, files=files)\n",
        "    e = time.time()\n",
        "fast_time = e-s\n",
        "print('加速推論時間:',fast_time)"
      ]
    },
    {
      "cell_type": "code",
      "execution_count": 8,
      "metadata": {
        "id": "fKR5d-Uv9nMn"
      },
      "outputs": [],
      "source": [
        "import cv2\n",
        "import numpy as np\n",
        "\n",
        "COCO_CONNECTIONS = [\n",
        "    (0, 1), (0, 2), (1, 3), (2, 4),\n",
        "    (5, 6), (5, 7), (7, 9),\n",
        "    (6, 8), (8, 10),\n",
        "    (5, 11), (6, 12), (11, 12),\n",
        "    (11, 13), (13, 15), (12, 14), (14, 16)\n",
        "]\n",
        "\n",
        "def draw_pose(frame, keypoints, scores, min_score=0.5):\n",
        "    for i, (x, y) in enumerate(keypoints):\n",
        "        if i < len(scores) and scores[i] > min_score:\n",
        "            cv2.circle(frame, (int(x), int(y)), 4, (0, 255, 0), -1)\n",
        "\n",
        "    for i, j in COCO_CONNECTIONS:\n",
        "        if i < len(keypoints) and j < len(keypoints):\n",
        "            if scores[i] > min_score and scores[j] > min_score:\n",
        "                x1, y1 = keypoints[i]\n",
        "                x2, y2 = keypoints[j]\n",
        "                cv2.line(frame, (int(x1), int(y1)), (int(x2), int(y2)), (0, 255, 255), 2)\n",
        "\n",
        "def render_video_with_pose_fast(video_path: str, response_json: dict, output_path: str = \"output_pose.mp4\", min_score_thresh=0.5) -> str:\n",
        "    cap = cv2.VideoCapture(video_path)\n",
        "    if not cap.isOpened():\n",
        "        raise IOError(f\"Cannot open video: {video_path}\")\n",
        "\n",
        "    fps = cap.get(cv2.CAP_PROP_FPS)\n",
        "    width = int(cap.get(cv2.CAP_PROP_FRAME_WIDTH))\n",
        "    height = int(cap.get(cv2.CAP_PROP_FRAME_HEIGHT))\n",
        "\n",
        "    fourcc = cv2.VideoWriter_fourcc(*\"mp4v\")\n",
        "    out = cv2.VideoWriter(output_path, fourcc, fps, (width, height))\n",
        "\n",
        "    # 建立 frame_idx -> prediction 映射\n",
        "    frame_map = {f[\"frame_idx\"]: f.get(\"predictions\", []) for f in response_json.get(\"frames\", [])}\n",
        "\n",
        "    frame_idx = 0\n",
        "    while True:\n",
        "        ret, frame = cap.read()\n",
        "        if not ret:\n",
        "            break\n",
        "\n",
        "        # 多人姿態列表包在 predictions[0]\n",
        "        people_list = frame_map.get(frame_idx, [])\n",
        "        if people_list and isinstance(people_list[0], list):\n",
        "            people_list = people_list[0]  # 解開雙層 list\n",
        "\n",
        "        for person in people_list:\n",
        "            kpts = person.get(\"keypoints\", [])\n",
        "            scores = person.get(\"keypoint_scores\", [])\n",
        "            if kpts and scores:\n",
        "                draw_pose(frame, np.array(kpts), np.array(scores), min_score_thresh)\n",
        "\n",
        "        out.write(frame)\n",
        "        frame_idx += 1\n",
        "\n",
        "    cap.release()\n",
        "    out.release()\n",
        "    return output_path\n"
      ]
    },
    {
      "cell_type": "code",
      "execution_count": 9,
      "metadata": {
        "id": "YFqTnYGQ9nMo",
        "outputId": "fb251e6c-4b08-485e-a9ae-7cd5de84ccb0",
        "colab": {
          "base_uri": "https://localhost:8080/"
        }
      },
      "outputs": [
        {
          "output_type": "stream",
          "name": "stdout",
          "text": [
            "輸出影片：origin.mp4\n",
            "輸出影片：fast.mp4\n"
          ]
        }
      ],
      "source": [
        "pose_result = response_origin.json()  # 或讀入 json 檔\n",
        "video_path = file_path\n",
        "output_path = render_video_with_pose_fast(video_path, pose_result, output_path=\"origin.mp4\")\n",
        "print(f\"輸出影片：{output_path}\")\n",
        "\n",
        "pose_result = response_fast.json()  # 或讀入 json 檔\n",
        "video_path = file_path\n",
        "output_path = render_video_with_pose_fast(video_path, pose_result, output_path=\"fast.mp4\")\n",
        "print(f\"輸出影片：{output_path}\")\n"
      ]
    },
    {
      "cell_type": "code",
      "execution_count": 9,
      "metadata": {
        "id": "ZMWHyaSE9nMp"
      },
      "outputs": [],
      "source": []
    }
  ],
  "metadata": {
    "colab": {
      "provenance": [],
      "include_colab_link": true
    },
    "kernelspec": {
      "display_name": "mvp",
      "language": "python",
      "name": "python3"
    },
    "language_info": {
      "codemirror_mode": {
        "name": "ipython",
        "version": 3
      },
      "file_extension": ".py",
      "mimetype": "text/x-python",
      "name": "python",
      "nbconvert_exporter": "python",
      "pygments_lexer": "ipython3",
      "version": "3.9.23"
    }
  },
  "nbformat": 4,
  "nbformat_minor": 0
}